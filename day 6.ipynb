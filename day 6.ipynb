{
 "cells": [
  {
   "cell_type": "code",
   "execution_count": null,
   "metadata": {},
   "outputs": [],
   "source": [
    "class Account():\n",
    "  ownerName=\"abc\"\n",
    "  \n",
    "  def __init__(self):\n",
    "      self.ownerName=ownerName\n",
    "      self.balence=balence\n",
    "  def deposite(self):\n",
    "     vinod=int(input(\"enter the amt for deposite\"))\n",
    "        balence=balence+vinod\n",
    "      return{\"ownerName\":self.ownerName,\"balence\":self.balence}\n",
    "  def withdrowal(self):\n",
    "     item=int(input(\"enter the number\"))\n",
    "     if(item<=balence):\n",
    "          print(\"withdrowal is success\")\n",
    "          balence=balence-item\n",
    "     else:\n",
    "            print(\"enter valid balence\")\n",
    "ob=class() \n",
    "ob.deposite()"
   ]
  },
  {
   "cell_type": "code",
   "execution_count": null,
   "metadata": {},
   "outputs": [],
   "source": []
  },
  {
   "cell_type": "code",
   "execution_count": null,
   "metadata": {},
   "outputs": [],
   "source": []
  }
 ],
 "metadata": {
  "kernelspec": {
   "display_name": "Python 3",
   "language": "python",
   "name": "python3"
  },
  "language_info": {
   "codemirror_mode": {
    "name": "ipython",
    "version": 3
   },
   "file_extension": ".py",
   "mimetype": "text/x-python",
   "name": "python",
   "nbconvert_exporter": "python",
   "pygments_lexer": "ipython3",
   "version": "3.7.6"
  }
 },
 "nbformat": 4,
 "nbformat_minor": 4
}
